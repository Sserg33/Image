{
 "cells": [
  {
   "cell_type": "code",
   "execution_count": 2,
   "id": "688eb57c-e8a6-47a8-bd0a-3a4072938a76",
   "metadata": {},
   "outputs": [
    {
     "name": "stdin",
     "output_type": "stream",
     "text": [
      "Введите строку:  О, лета тело\n"
     ]
    },
    {
     "name": "stdout",
     "output_type": "stream",
     "text": [
      "Строка не является палиндромом.\n"
     ]
    }
   ],
   "source": [
    "text = input(\"Введите строку: \")\n",
    "text = text.lower().replace(\" \", \"\")\n",
    "is_palindrome = True\n",
    "for i in range(len(text) // 2):\n",
    "    if text[i] != text[-(i + 1)]:\n",
    "        is_palindrome = False\n",
    "        break\n",
    "if is_palindrome:\n",
    "    print(\"Строка является палиндромом.\")\n",
    "else:\n",
    "    print(\"Строка не является палиндромом.\")"
   ]
  },
  {
   "cell_type": "code",
   "execution_count": null,
   "id": "8cbb1dd2-76e1-4284-be06-9a4e2d574c33",
   "metadata": {},
   "outputs": [],
   "source": []
  }
 ],
 "metadata": {
  "kernelspec": {
   "display_name": "Python 3 (ipykernel)",
   "language": "python",
   "name": "python3"
  },
  "language_info": {
   "codemirror_mode": {
    "name": "ipython",
    "version": 3
   },
   "file_extension": ".py",
   "mimetype": "text/x-python",
   "name": "python",
   "nbconvert_exporter": "python",
   "pygments_lexer": "ipython3",
   "version": "3.12.4"
  }
 },
 "nbformat": 4,
 "nbformat_minor": 5
}
