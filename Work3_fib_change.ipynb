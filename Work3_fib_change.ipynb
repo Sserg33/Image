{
 "cells": [
  {
   "cell_type": "code",
   "execution_count": 6,
   "id": "0c7d96e3-059e-46ff-96cf-37bf5ea73293",
   "metadata": {},
   "outputs": [
    {
     "name": "stdin",
     "output_type": "stream",
     "text": [
      "Введите количество чисел Фибоначчи для генерации (n > 0):  10\n"
     ]
    },
    {
     "name": "stdout",
     "output_type": "stream",
     "text": [
      "Последовательность Фибоначчи (10 чисел): [0, 1, 1, 2, 3, 5, 8, 13, 21, 34]\n"
     ]
    }
   ],
   "source": [
    "def generate_fibonacci(n):\n",
    "    \"\"\"Генерирует список чисел Фибоначчи до n членов.\"\"\"\n",
    "    if not isinstance(n, int) or n <= 0:\n",
    "        raise ValueError(\"n должно быть положительным целым числом.\")\n",
    "\n",
    "    fib_sequence = []\n",
    "    a, b = 0, 1\n",
    "    for _ in range(n):\n",
    "        fib_sequence.append(a)\n",
    "        a, b = b, a + b\n",
    "    return fib_sequence\n",
    "\n",
    "if __name__ == \"__main__\":\n",
    "    while True:\n",
    "        try:\n",
    "            n = int(input(\"Введите количество чисел Фибоначчи для генерации (n > 0): \"))\n",
    "            if n > 0:\n",
    "                break\n",
    "            else:\n",
    "                print(\"n должно быть больше 0.\")\n",
    "        except ValueError:\n",
    "            print(\"Неверный ввод. Пожалуйста, введите целое число.\")\n",
    "\n",
    "    try:\n",
    "        fib_numbers = generate_fibonacci(n)\n",
    "        print(f\"Последовательность Фибоначчи ({n} чисел): {fib_numbers}\")\n",
    "    except ValueError as e:\n",
    "        print(f\"Ошибка: {e}\")"
   ]
  },
  {
   "cell_type": "code",
   "execution_count": null,
   "id": "36421540-ebf7-4d22-a705-745912eee0e9",
   "metadata": {},
   "outputs": [],
   "source": []
  },
  {
   "cell_type": "code",
   "execution_count": null,
   "id": "4aed74d4-7a25-4608-a10e-677d5a8374ad",
   "metadata": {},
   "outputs": [],
   "source": []
  }
 ],
 "metadata": {
  "kernelspec": {
   "display_name": "Python 3 (ipykernel)",
   "language": "python",
   "name": "python3"
  },
  "language_info": {
   "codemirror_mode": {
    "name": "ipython",
    "version": 3
   },
   "file_extension": ".py",
   "mimetype": "text/x-python",
   "name": "python",
   "nbconvert_exporter": "python",
   "pygments_lexer": "ipython3",
   "version": "3.12.4"
  }
 },
 "nbformat": 4,
 "nbformat_minor": 5
}
