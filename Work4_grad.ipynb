{
 "cells": [
  {
   "cell_type": "code",
   "execution_count": null,
   "id": "072f31f9-598c-4e88-b0a3-eb4a6e05d2b8",
   "metadata": {},
   "outputs": [],
   "source": [
    "cel = float(input(\"Введите температуру в Цельсиях: \"))"
   ]
  },
  {
   "cell_type": "code",
   "execution_count": null,
   "id": "04eb1802-c4ff-4994-a32c-a671d68d357a",
   "metadata": {},
   "outputs": [],
   "source": [
    "  far = (cel * 9 / 5) + 32"
   ]
  },
  {
   "cell_type": "code",
   "execution_count": null,
   "id": "1954139b-30f2-4d80-87d0-7ba5c55dd857",
   "metadata": {},
   "outputs": [],
   "source": [
    "   print(\"Преобразованная температура в Фаренгейтах:\", far)"
   ]
  },
  {
   "cell_type": "code",
   "execution_count": null,
   "id": "cc0935ce-8e15-42a5-bcdd-7d63c62748b5",
   "metadata": {},
   "outputs": [],
   "source": [
    "far = float(input(\"Введите температуру в Фаренгейтах: \"))"
   ]
  },
  {
   "cell_type": "code",
   "execution_count": null,
   "id": "b1d8d0dc-162d-4350-b374-49c2a9eca3c6",
   "metadata": {},
   "outputs": [],
   "source": [
    "cel = (far - 32) * 5 / 9"
   ]
  },
  {
   "cell_type": "code",
   "execution_count": null,
   "id": "d8c247bc-ce62-43dd-bb1d-9fade182aa4a",
   "metadata": {},
   "outputs": [],
   "source": [
    "print(\"Преобразованная температура в Цельсиях:\", cel)"
   ]
  },
  {
   "cell_type": "code",
   "execution_count": null,
   "id": "2e1a43ca-b35f-456a-abfa-866498c67b26",
   "metadata": {},
   "outputs": [],
   "source": [
    "print(f\"{far} градусов Фаренгейта = {cel:.2f} градусов Цельсия\")"
   ]
  },
  {
   "cell_type": "code",
   "execution_count": null,
   "id": "04f65f94-1592-4c6f-9814-39ae386aa9dc",
   "metadata": {},
   "outputs": [],
   "source": []
  }
 ],
 "metadata": {
  "kernelspec": {
   "display_name": "Python 3 (ipykernel)",
   "language": "python",
   "name": "python3"
  },
  "language_info": {
   "codemirror_mode": {
    "name": "ipython",
    "version": 3
   },
   "file_extension": ".py",
   "mimetype": "text/x-python",
   "name": "python",
   "nbconvert_exporter": "python",
   "pygments_lexer": "ipython3",
   "version": "3.12.4"
  }
 },
 "nbformat": 4,
 "nbformat_minor": 5
}
