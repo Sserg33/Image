{
 "cells": [
  {
   "cell_type": "code",
   "execution_count": 1,
   "id": "703d56b4-c2c7-4efb-bb95-9210c361c702",
   "metadata": {},
   "outputs": [
    {
     "name": "stdout",
     "output_type": "stream",
     "text": [
      "НОД чисел 78 и 34 равен 2\n"
     ]
    }
   ],
   "source": [
    "def gcd(a, b):\n",
    "  while b != 0:\n",
    "    a, b = b, a % b\n",
    "  return a\n",
    "    #Пример\n",
    "num1 = 78\n",
    "num2 = 34\n",
    "result = gcd(num1, num2)\n",
    "print(f\"НОД чисел {num1} и {num2} равен {result}\")"
   ]
  },
  {
   "cell_type": "code",
   "execution_count": null,
   "id": "b86bd9a8-2edc-4655-9c8f-0dcf346e6056",
   "metadata": {},
   "outputs": [],
   "source": []
  },
  {
   "cell_type": "code",
   "execution_count": null,
   "id": "4ccd821b-a48e-44e8-bb4f-3e399fedff57",
   "metadata": {},
   "outputs": [],
   "source": []
  }
 ],
 "metadata": {
  "kernelspec": {
   "display_name": "Python 3 (ipykernel)",
   "language": "python",
   "name": "python3"
  },
  "language_info": {
   "codemirror_mode": {
    "name": "ipython",
    "version": 3
   },
   "file_extension": ".py",
   "mimetype": "text/x-python",
   "name": "python",
   "nbconvert_exporter": "python",
   "pygments_lexer": "ipython3",
   "version": "3.12.4"
  }
 },
 "nbformat": 4,
 "nbformat_minor": 5
}
