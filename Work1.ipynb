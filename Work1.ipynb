{
 "cells": [
  {
   "cell_type": "code",
   "execution_count": 3,
   "id": "6bdf03fd-8aa3-4c95-b59d-f2c24e885459",
   "metadata": {},
   "outputs": [
    {
     "name": "stdin",
     "output_type": "stream",
     "text": [
      "Введите ваше имя:  Сергей\n"
     ]
    }
   ],
   "source": [
    "name = input(\"Введите ваше имя: \")"
   ]
  },
  {
   "cell_type": "code",
   "execution_count": 4,
   "id": "e9a5e686-541c-4ab2-b95f-f9d1eb7fb820",
   "metadata": {},
   "outputs": [
    {
     "name": "stdin",
     "output_type": "stream",
     "text": [
      "Введите ваш возраст:  37\n"
     ]
    }
   ],
   "source": [
    "age = int(input(\"Введите Ваш возраст: \"))"
   ]
  },
  {
   "cell_type": "code",
   "execution_count": 5,
   "id": "fdc9b42c-535c-4104-951f-32d6c4d72c12",
   "metadata": {},
   "outputs": [
    {
     "name": "stdin",
     "output_type": "stream",
     "text": [
      "Введите Ваш любимый цвет:  белый\n"
     ]
    }
   ],
   "source": [
    "color = input(\"Введите Ваш любимый цвет: \")"
   ]
  },
  {
   "cell_type": "code",
   "execution_count": 9,
   "id": "fbed5185-8b81-444a-99e7-b2856f94d9ae",
   "metadata": {},
   "outputs": [
    {
     "name": "stdout",
     "output_type": "stream",
     "text": [
      "Вас зовут Сергей, Вам 37 лет, Ваш любимый цвет белый\n"
     ]
    }
   ],
   "source": [
    "print(f\"Вас зовут {name}, Вам {age} лет, Ваш любимый цвет {color}\")"
   ]
  },
  {
   "cell_type": "code",
   "execution_count": null,
   "id": "9145362a-5610-435d-bc0e-1e6bac54a067",
   "metadata": {},
   "outputs": [],
   "source": []
  }
 ],
 "metadata": {
  "kernelspec": {
   "display_name": "Python 3 (ipykernel)",
   "language": "python",
   "name": "python3"
  },
  "language_info": {
   "codemirror_mode": {
    "name": "ipython",
    "version": 3
   },
   "file_extension": ".py",
   "mimetype": "text/x-python",
   "name": "python",
   "nbconvert_exporter": "python",
   "pygments_lexer": "ipython3",
   "version": "3.12.4"
  }
 },
 "nbformat": 4,
 "nbformat_minor": 5
}
