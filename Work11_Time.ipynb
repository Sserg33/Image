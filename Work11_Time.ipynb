{
 "cells": [
  {
   "cell_type": "code",
   "execution_count": 3,
   "id": "8e70c20d-67c3-401d-9586-147cc4b5a1c3",
   "metadata": {},
   "outputs": [],
   "source": [
    "import datetime"
   ]
  },
  {
   "cell_type": "code",
   "execution_count": 5,
   "id": "49f1934f-3ef0-49b0-a4b3-4de3dd5d9c0e",
   "metadata": {},
   "outputs": [],
   "source": [
    "now = datetime.datetime.now()"
   ]
  },
  {
   "cell_type": "code",
   "execution_count": 7,
   "id": "ef74bb2e-97bd-44ca-a37b-419b15fefe28",
   "metadata": {},
   "outputs": [],
   "source": [
    "formatted_date_time = now.strftime(\"%d %B %Y, %H:%M:%S\")"
   ]
  },
  {
   "cell_type": "code",
   "execution_count": 9,
   "id": "46dacc08-96a9-4ad6-8e90-95098cf2b7f5",
   "metadata": {},
   "outputs": [
    {
     "name": "stdout",
     "output_type": "stream",
     "text": [
      "29 September 2024, 17:21:42\n"
     ]
    }
   ],
   "source": [
    "print(formatted_date_time)"
   ]
  },
  {
   "cell_type": "code",
   "execution_count": null,
   "id": "97276e78-73f1-4adc-bd1f-d431ad2585c2",
   "metadata": {},
   "outputs": [],
   "source": []
  }
 ],
 "metadata": {
  "kernelspec": {
   "display_name": "Python 3 (ipykernel)",
   "language": "python",
   "name": "python3"
  },
  "language_info": {
   "codemirror_mode": {
    "name": "ipython",
    "version": 3
   },
   "file_extension": ".py",
   "mimetype": "text/x-python",
   "name": "python",
   "nbconvert_exporter": "python",
   "pygments_lexer": "ipython3",
   "version": "3.12.4"
  }
 },
 "nbformat": 4,
 "nbformat_minor": 5
}
