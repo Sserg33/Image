{
 "cells": [
  {
   "cell_type": "code",
   "execution_count": 1,
   "id": "f38991f3-01ce-463b-a676-c20d30e14e49",
   "metadata": {},
   "outputs": [
    {
     "name": "stdin",
     "output_type": "stream",
     "text": [
      "Введите начало диапазона:  1\n"
     ]
    }
   ],
   "source": [
    "start = int(input(\"Введите начало диапазона: \"))"
   ]
  },
  {
   "cell_type": "code",
   "execution_count": 2,
   "id": "097c3c84-f095-48d1-892a-be534a9c8a3f",
   "metadata": {},
   "outputs": [
    {
     "name": "stdin",
     "output_type": "stream",
     "text": [
      "Введите конец диапазона:  10\n"
     ]
    }
   ],
   "source": [
    "end = int(input(\"Введите конец диапазона: \"))"
   ]
  },
  {
   "cell_type": "code",
   "execution_count": 3,
   "id": "b398fee2-804a-4918-9878-97087b44e897",
   "metadata": {},
   "outputs": [
    {
     "name": "stdout",
     "output_type": "stream",
     "text": [
      "Четные числа в диапазоне от 1 до 10 :\n"
     ]
    }
   ],
   "source": [
    "print(\"Четные числа в диапазоне от\", start, \"до\", end, \":\")"
   ]
  },
  {
   "cell_type": "code",
   "execution_count": 4,
   "id": "ce0a5ac5-4fda-4806-b0f0-36a9c48de4d4",
   "metadata": {},
   "outputs": [
    {
     "name": "stdout",
     "output_type": "stream",
     "text": [
      "2 4 6 8 10 "
     ]
    }
   ],
   "source": [
    "for i in range(start, end + 1):\n",
    "  if i % 2 == 0:\n",
    "    print(i, end=\" \")"
   ]
  },
  {
   "cell_type": "code",
   "execution_count": 5,
   "id": "15bcfe39-8514-43f6-b956-2e5bb1de9665",
   "metadata": {},
   "outputs": [
    {
     "name": "stdout",
     "output_type": "stream",
     "text": [
      "\n"
     ]
    }
   ],
   "source": [
    "print()"
   ]
  },
  {
   "cell_type": "code",
   "execution_count": null,
   "id": "f716c433-b49b-4159-a6b3-6272877b67b1",
   "metadata": {},
   "outputs": [],
   "source": []
  }
 ],
 "metadata": {
  "kernelspec": {
   "display_name": "Python 3 (ipykernel)",
   "language": "python",
   "name": "python3"
  },
  "language_info": {
   "codemirror_mode": {
    "name": "ipython",
    "version": 3
   },
   "file_extension": ".py",
   "mimetype": "text/x-python",
   "name": "python",
   "nbconvert_exporter": "python",
   "pygments_lexer": "ipython3",
   "version": "3.12.4"
  }
 },
 "nbformat": 4,
 "nbformat_minor": 5
}
