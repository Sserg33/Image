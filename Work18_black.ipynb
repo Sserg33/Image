{
 "cells": [
  {
   "cell_type": "code",
   "execution_count": 2,
   "id": "834cb56f-0138-4ccc-a1d1-4f13606bc7c7",
   "metadata": {},
   "outputs": [
    {
     "name": "stdout",
     "output_type": "stream",
     "text": [
      "Изменен размер.\n",
      "Конвертация выполнена.\n",
      "Размытие успешно.\n"
     ]
    }
   ],
   "source": [
    "from PIL import Image, ImageFilter\n",
    "import os\n",
    "\n",
    "def изменить_размер(путь_к_файлу, ширина, высота):\n",
    "    try:\n",
    "        img = Image.open(путь_к_файлу)\n",
    "        img_измененный = img.resize((ширина, высота))\n",
    "        img_измененный.save(f\"{путь_к_файлу.rsplit('.', 1)[0]}_новый_размер.{путь_к_файлу.rsplit('.', 1)[1]}\")\n",
    "        return True\n",
    "    except FileNotFoundError:\n",
    "        print(f\"Ошибка: Файл {путь_к_файлу} не найден.\")\n",
    "        return False\n",
    "    except Exception as e:\n",
    "        print(f\"Произошла ошибка: {e}\")\n",
    "        return False\n",
    "\n",
    "\n",
    "def конвертировать_в_черно_белый(путь_к_файлу):   \n",
    "    try:\n",
    "        img = Image.open(путь_к_файлу)\n",
    "        img_черно_белый = img.convert(\"L\") \n",
    "        img_черно_белый.save(f\"{путь_к_файлу.rsplit('.', 1)[0]}_черно_белый.{путь_к_файлу.rsplit('.', 1)[1]}\")\n",
    "        return True\n",
    "    except FileNotFoundError:\n",
    "        print(f\"Ошибка: Файл {путь_к_файлу} не найден.\")\n",
    "        return False\n",
    "    except Exception as e:\n",
    "        print(f\"Произошла ошибка: {e}\")\n",
    "        return False\n",
    "\n",
    "\n",
    "def применить_гауссово_размытие(путь_к_файлу, радиус):\n",
    "    try:\n",
    "        img = Image.open(путь_к_файлу)\n",
    "        img_размытый = img.filter(ImageFilter.GaussianBlur(radius=радиус))\n",
    "        img_размытый.save(f\"{путь_к_файлу.rsplit('.', 1)[0]}_размытый.{путь_к_файлу.rsplit('.', 1)[1]}\")\n",
    "        return True\n",
    "    except FileNotFoundError:\n",
    "        print(f\"Ошибка: Файл {путь_к_файлу} не найден.\")\n",
    "        return False\n",
    "    except Exception as e:\n",
    "        print(f\"Произошла ошибка: {e}\")\n",
    "        return False\n",
    "\n",
    "\n",
    "if __name__ == \"__main__\":\n",
    "    путь_к_файлу = \"1.jpg\"  # Замените на путь к вашему изображению\n",
    "    \n",
    "    успех = изменить_размер(путь_к_файлу, 200, 200)\n",
    "    if успех: print(\"Изменен размер.\")\n",
    "\n",
    "    успех = конвертировать_в_черно_белый(путь_к_файлу)\n",
    "    if успех: print(\"Конвертация выполнена.\")\n",
    "\n",
    "    успех = применить_гауссово_размытие(путь_к_файлу, 5)\n",
    "    if успех: print(\"Размытие успешно.\")"
   ]
  },
  {
   "cell_type": "code",
   "execution_count": null,
   "id": "63824064-9a05-4b59-acde-08bf007661f8",
   "metadata": {},
   "outputs": [],
   "source": []
  },
  {
   "cell_type": "code",
   "execution_count": null,
   "id": "20081fb8-c4da-461b-bd43-a5f5fb67d0ec",
   "metadata": {},
   "outputs": [],
   "source": []
  }
 ],
 "metadata": {
  "kernelspec": {
   "display_name": "Python 3 (ipykernel)",
   "language": "python",
   "name": "python3"
  },
  "language_info": {
   "codemirror_mode": {
    "name": "ipython",
    "version": 3
   },
   "file_extension": ".py",
   "mimetype": "text/x-python",
   "name": "python",
   "nbconvert_exporter": "python",
   "pygments_lexer": "ipython3",
   "version": "3.12.6"
  }
 },
 "nbformat": 4,
 "nbformat_minor": 5
}
