{
 "cells": [
  {
   "cell_type": "code",
   "execution_count": 3,
   "id": "a10917e2-d104-4d33-b56c-f4e1100452c4",
   "metadata": {},
   "outputs": [
    {
     "name": "stdout",
     "output_type": "stream",
     "text": [
      "Общий доход по каждому продукту:\n",
      "- Spark plugs: 30000.00\n",
      "- Engine oil: 30000.00\n",
      "- Fuel filter: 35000.00\n",
      "- Timing belt: 60000.00\n",
      "- Front shock absorber: 28000.00\n",
      "- Lamp H7: 30000.00\n",
      "- Oil filter: 35000.00\n",
      "- Frost-free: 4200.00\n",
      "- Radiator cooling: 12000.00\n",
      "- Front pads: 22500.00\n",
      "- Rear pads: 10000.00\n",
      "- Brake fluid: 6000.00\n",
      "- Muffler: 22500.00\n",
      "- Polish: 6000.00\n",
      "- Salon filter: 13500.00\n",
      "- Air filter: 12500.00\n",
      "- First aid kit: 1000.00\n",
      "- Fire extinguisher: 50000.00\n"
     ]
    }
   ],
   "source": [
    "import csv\n",
    "\n",
    "def calculate_revenue_by_product(filename=\"data.csv\"):\n",
    "    try:\n",
    "        with open(filename, 'r', encoding='utf-8') as csvfile:\n",
    "            reader = csv.DictReader(csvfile)\n",
    "            product_revenue = {}\n",
    "            for row in reader:\n",
    "                try:\n",
    "                    product_name = row['Name']  \n",
    "                    quantity = int(row['Quantity'])\n",
    "                    price = float(row['Price'])\n",
    "                    revenue = quantity * price\n",
    "                    product_revenue[product_name] = product_revenue.get(product_name, 0) + revenue\n",
    "                except (ValueError, KeyError) as e:\n",
    "                    print(f\"Ошибка строки '{row}': {e}\")\n",
    "            return product_revenue\n",
    "    except FileNotFoundError:\n",
    "        return \"Файл не найден.\"\n",
    "    except Exception as e:\n",
    "        return f\"Произошла ошибка: {e}\"\n",
    "\n",
    "\n",
    "\n",
    "if __name__ == \"__main__\":\n",
    "    revenue_data = calculate_revenue_by_product()\n",
    "\n",
    "    if isinstance(revenue_data, str):\n",
    "        print(revenue_data)\n",
    "    else:\n",
    "        print(\"Общий доход:\")\n",
    "        for product, revenue in revenue_data.items():\n",
    "            print(f\"- {product}: {revenue:.2f}\")"
   ]
  },
  {
   "cell_type": "code",
   "execution_count": null,
   "id": "aa0c7050-d754-4fbd-acdb-c5496b5b08d3",
   "metadata": {},
   "outputs": [],
   "source": []
  }
 ],
 "metadata": {
  "kernelspec": {
   "display_name": "Python 3 (ipykernel)",
   "language": "python",
   "name": "python3"
  },
  "language_info": {
   "codemirror_mode": {
    "name": "ipython",
    "version": 3
   },
   "file_extension": ".py",
   "mimetype": "text/x-python",
   "name": "python",
   "nbconvert_exporter": "python",
   "pygments_lexer": "ipython3",
   "version": "3.12.4"
  }
 },
 "nbformat": 4,
 "nbformat_minor": 5
}
