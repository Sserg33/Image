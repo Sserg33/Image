{
 "cells": [
  {
   "cell_type": "code",
   "execution_count": 7,
   "id": "5aba2024-0e42-4883-b650-fb162b4faf6f",
   "metadata": {},
   "outputs": [],
   "source": [
    "text = \"Привет, мир!\""
   ]
  },
  {
   "cell_type": "code",
   "execution_count": 9,
   "id": "f3c42e2f-f1bc-4a71-b4fa-1a7fba90282b",
   "metadata": {},
   "outputs": [],
   "source": [
    "char_counts = {}"
   ]
  },
  {
   "cell_type": "code",
   "execution_count": 11,
   "id": "cd91ca4a-1837-4093-884b-1ed2c797e343",
   "metadata": {},
   "outputs": [],
   "source": [
    "for char in text:\n",
    "  if char in char_counts:\n",
    "    char_counts[char] += 1\n",
    "  else:\n",
    "    char_counts[char] = 1"
   ]
  },
  {
   "cell_type": "code",
   "execution_count": 13,
   "id": "c8e8a639-a7e1-4b1b-9043-b053bdb6dd5f",
   "metadata": {},
   "outputs": [
    {
     "name": "stdout",
     "output_type": "stream",
     "text": [
      "{'П': 1, 'р': 2, 'и': 2, 'в': 1, 'е': 1, 'т': 1, ',': 1, ' ': 1, 'м': 1, '!': 1}\n"
     ]
    }
   ],
   "source": [
    "print(char_counts)"
   ]
  },
  {
   "cell_type": "code",
   "execution_count": null,
   "id": "18ac122a-ed38-4f3d-b304-fb0406863c86",
   "metadata": {},
   "outputs": [],
   "source": []
  }
 ],
 "metadata": {
  "kernelspec": {
   "display_name": "Python 3 (ipykernel)",
   "language": "python",
   "name": "python3"
  },
  "language_info": {
   "codemirror_mode": {
    "name": "ipython",
    "version": 3
   },
   "file_extension": ".py",
   "mimetype": "text/x-python",
   "name": "python",
   "nbconvert_exporter": "python",
   "pygments_lexer": "ipython3",
   "version": "3.12.4"
  }
 },
 "nbformat": 4,
 "nbformat_minor": 5
}
