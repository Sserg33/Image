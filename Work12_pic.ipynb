{
 "cells": [
  {
   "cell_type": "code",
   "execution_count": null,
   "id": "7b728ecf-9ca5-415e-8cbc-727e7a9ed2f9",
   "metadata": {},
   "outputs": [],
   "source": [
    "from PIL import Image\n",
    "import os\n",
    "\n",
    "def resize_image():\n",
    "    while True:\n",
    "        filename = input(\"Введите имя изображения: \")\n",
    "        if os.path.exists(filename):\n",
    "            break\n",
    "    try:\n",
    "        img = Image.open(filename)\n",
    "        width, height = img.size\n",
    "        print(f\"Размер изображения: {width} x {height} \")\n",
    "\n",
    "        new_width = width // 2\n",
    "        new_height = height // 2\n",
    "        resized_img = img.resize((new_width, new_height))\n",
    "\n",
    "        new_filename = os.path.splitext(filename)[0] + \"_resized\" + os.path.splitext(filename)[1]\n",
    "        resized_img.save(new_filename)\n",
    "        print(f\"Изменённое изображение: {mini}\")\n",
    "\n",
    "        new_width, new_height = resized_img.size\n",
    "        print(f\"Размер изменённого изображения: {new_width} x {new_height} пикселей\")\n",
    "\n",
    "    except FileNotFoundError as e:\n",
    "        print(f\"Ошибка: Файл {filename} не найден.\")\n",
    "\n",
    "if __name__ == \"__main__\":\n",
    "    resize_image()"
   ]
  },
  {
   "cell_type": "code",
   "execution_count": null,
   "id": "5c71df13-0086-41ca-b637-a40baf393c08",
   "metadata": {},
   "outputs": [],
   "source": []
  }
 ],
 "metadata": {
  "kernelspec": {
   "display_name": "Python 3 (ipykernel)",
   "language": "python",
   "name": "python3"
  },
  "language_info": {
   "codemirror_mode": {
    "name": "ipython",
    "version": 3
   },
   "file_extension": ".py",
   "mimetype": "text/x-python",
   "name": "python",
   "nbconvert_exporter": "python",
   "pygments_lexer": "ipython3",
   "version": "3.12.4"
  }
 },
 "nbformat": 4,
 "nbformat_minor": 5
}
