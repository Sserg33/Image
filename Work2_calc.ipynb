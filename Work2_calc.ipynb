{
 "cells": [
  {
   "cell_type": "code",
   "execution_count": 1,
   "id": "179b61c8-88d5-449e-801c-2ae9437d559e",
   "metadata": {},
   "outputs": [
    {
     "name": "stdin",
     "output_type": "stream",
     "text": [
      "Введите число:  12\n"
     ]
    }
   ],
   "source": [
    "number1 = float(input(\"Введите число: \"))"
   ]
  },
  {
   "cell_type": "code",
   "execution_count": 2,
   "id": "b62c838a-d635-47a8-ac8c-b9156d48aab9",
   "metadata": {},
   "outputs": [
    {
     "name": "stdin",
     "output_type": "stream",
     "text": [
      "Введите оператор (+ , - , * , /):  *\n"
     ]
    }
   ],
   "source": [
    "operator = input(\"Введите оператор (+ , - , * , /): \")"
   ]
  },
  {
   "cell_type": "code",
   "execution_count": 3,
   "id": "e28eabcb-bdf6-4352-ae5f-3b88d1cfd2d6",
   "metadata": {},
   "outputs": [
    {
     "name": "stdin",
     "output_type": "stream",
     "text": [
      "Введите число:  3\n"
     ]
    }
   ],
   "source": [
    "number2 = float(input(\"Введите число: \"))"
   ]
  },
  {
   "cell_type": "code",
   "execution_count": 36,
   "id": "d9fbbedc-9ada-4b94-b261-80c6c4f7a534",
   "metadata": {},
   "outputs": [],
   "source": [
    "if operator == \"+\":\n",
    "    result = number1 + number2"
   ]
  },
  {
   "cell_type": "code",
   "execution_count": 38,
   "id": "d992b617-fff1-422c-8331-62073b6b1af5",
   "metadata": {},
   "outputs": [],
   "source": [
    "if operator == \"-\":\n",
    "    result = number1 - number2"
   ]
  },
  {
   "cell_type": "code",
   "execution_count": 40,
   "id": "b2f28753-6210-4bfc-8ade-011acfd31448",
   "metadata": {},
   "outputs": [],
   "source": [
    "if operator == \"*\":\n",
    "    result = number1 * number2"
   ]
  },
  {
   "cell_type": "code",
   "execution_count": 42,
   "id": "f85e7f3c-109d-40db-b928-c07f6a69998c",
   "metadata": {},
   "outputs": [],
   "source": [
    "if operator == \"/\":\n",
    "    result = number1 / number2\n"
   ]
  },
  {
   "cell_type": "code",
   "execution_count": 46,
   "id": "4855631d-cd05-4a16-94e1-5135559151b7",
   "metadata": {},
   "outputs": [
    {
     "name": "stdout",
     "output_type": "stream",
     "text": [
      "Результат: 36.0\n"
     ]
    }
   ],
   "source": [
    "if operator in (\"+\", \"-\", \"*\", \"/\"):\n",
    "    print(f\"Результат: {result}\")"
   ]
  },
  {
   "cell_type": "code",
   "execution_count": null,
   "id": "f3a96eb5-e020-4645-9b1f-9191f11deebb",
   "metadata": {},
   "outputs": [],
   "source": []
  },
  {
   "cell_type": "code",
   "execution_count": null,
   "id": "ffe98ea1-da48-4ec4-850c-ebc0113d741a",
   "metadata": {},
   "outputs": [],
   "source": []
  }
 ],
 "metadata": {
  "kernelspec": {
   "display_name": "Python 3 (ipykernel)",
   "language": "python",
   "name": "python3"
  },
  "language_info": {
   "codemirror_mode": {
    "name": "ipython",
    "version": 3
   },
   "file_extension": ".py",
   "mimetype": "text/x-python",
   "name": "python",
   "nbconvert_exporter": "python",
   "pygments_lexer": "ipython3",
   "version": "3.12.4"
  }
 },
 "nbformat": 4,
 "nbformat_minor": 5
}
