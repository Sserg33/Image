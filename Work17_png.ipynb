{
 "cells": [
  {
   "cell_type": "code",
   "execution_count": 9,
   "id": "834cb56f-0138-4ccc-a1d1-4f13606bc7c7",
   "metadata": {},
   "outputs": [
    {
     "name": "stdout",
     "output_type": "stream",
     "text": [
      "не содержит прозрачности.\n",
      "Изображение 3.png обработано успешно.\n"
     ]
    }
   ],
   "source": [
    "from PIL import Image\n",
    "def обработать_изображение(путь_к_файлу):\n",
    "    try:\n",
    "        img = Image.open(путь_к_файлу)\n",
    "        if img.mode == \"RGBA\":\n",
    "            print(\"содержит прозрачность.\")\n",
    "            img_rgb = Image.new(\"RGB\", img.size, \"white\")\n",
    "            img_rgb.paste(img, mask=img.split()[3]) \n",
    "            img = img_rgb\n",
    "            print(\"Прозрачные пиксели.\")\n",
    "        else:\n",
    "            print(\"не содержит прозрачности.\")\n",
    "        img.save(f\"{путь_к_файлу.rsplit('.', 1)[0]}_new.{путь_к_файлу.rsplit('.', 1)[1]}\") \n",
    "        return True\n",
    "    except FileNotFoundError:\n",
    "        print(f\"Ошибка: Файл {путь_к_файлу} не найден.\")\n",
    "        return False\n",
    "    except Exception as e:\n",
    "        print(f\"Произошла ошибка: {e}\")\n",
    "        return False\n",
    "\n",
    "\n",
    "if __name__ == \"__main__\":\n",
    "    путь_к_файлу = \"3.png\" \n",
    "    успех = обработать_изображение(путь_к_файлу)\n",
    "    if успех:\n",
    "        print(f\"Изображение {путь_к_файлу} обработано успешно.\")"
   ]
  },
  {
   "cell_type": "code",
   "execution_count": null,
   "id": "63824064-9a05-4b59-acde-08bf007661f8",
   "metadata": {},
   "outputs": [],
   "source": []
  },
  {
   "cell_type": "code",
   "execution_count": null,
   "id": "20081fb8-c4da-461b-bd43-a5f5fb67d0ec",
   "metadata": {},
   "outputs": [],
   "source": []
  }
 ],
 "metadata": {
  "kernelspec": {
   "display_name": "Python 3 (ipykernel)",
   "language": "python",
   "name": "python3"
  },
  "language_info": {
   "codemirror_mode": {
    "name": "ipython",
    "version": 3
   },
   "file_extension": ".py",
   "mimetype": "text/x-python",
   "name": "python",
   "nbconvert_exporter": "python",
   "pygments_lexer": "ipython3",
   "version": "3.12.6"
  }
 },
 "nbformat": 4,
 "nbformat_minor": 5
}
