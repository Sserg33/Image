{
 "cells": [
  {
   "cell_type": "code",
   "execution_count": 3,
   "id": "c733c2a4-9636-423d-8b0a-174652126697",
   "metadata": {},
   "outputs": [
    {
     "name": "stdin",
     "output_type": "stream",
     "text": [
      "Введите список чисел:  2 3 4 5 6 8 1 1 5\n"
     ]
    }
   ],
   "source": [
    "numbers = input(\"Введите список чисел: \").split()"
   ]
  },
  {
   "cell_type": "code",
   "execution_count": 5,
   "id": "841e22ed-b406-4f86-b31a-ec6399a8d138",
   "metadata": {},
   "outputs": [],
   "source": [
    "numbers = [int(number) for number in numbers]"
   ]
  },
  {
   "cell_type": "code",
   "execution_count": 7,
   "id": "81d443a3-596f-4815-9f6c-1c27b51acef2",
   "metadata": {},
   "outputs": [],
   "source": [
    "numbers_set = set(numbers)"
   ]
  },
  {
   "cell_type": "code",
   "execution_count": 9,
   "id": "8607cada-e9ce-49ac-9644-9f7529606c06",
   "metadata": {},
   "outputs": [
    {
     "name": "stdout",
     "output_type": "stream",
     "text": [
      "исходный вид: {1, 2, 3, 4, 5, 6, 8}\n"
     ]
    }
   ],
   "source": [
    "print(\"исходный вид:\", numbers_set)"
   ]
  },
  {
   "cell_type": "code",
   "execution_count": 13,
   "id": "154794eb-508c-4d71-bc08-b719c8cd8ac9",
   "metadata": {},
   "outputs": [
    {
     "name": "stdout",
     "output_type": "stream",
     "text": [
      "Множество без дубликатов: {1, 2, 3, 4, 5, 6, 8}\n"
     ]
    }
   ],
   "source": [
    "print(\"Множество без дубликатов:\", numbers_set)"
   ]
  },
  {
   "cell_type": "code",
   "execution_count": null,
   "id": "57e3df46-d32f-47b1-ae30-85e68ad0e88c",
   "metadata": {},
   "outputs": [],
   "source": []
  }
 ],
 "metadata": {
  "kernelspec": {
   "display_name": "Python 3 (ipykernel)",
   "language": "python",
   "name": "python3"
  },
  "language_info": {
   "codemirror_mode": {
    "name": "ipython",
    "version": 3
   },
   "file_extension": ".py",
   "mimetype": "text/x-python",
   "name": "python",
   "nbconvert_exporter": "python",
   "pygments_lexer": "ipython3",
   "version": "3.12.4"
  }
 },
 "nbformat": 4,
 "nbformat_minor": 5
}
