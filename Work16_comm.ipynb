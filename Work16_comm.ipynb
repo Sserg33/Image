{
 "cells": [
  {
   "cell_type": "code",
   "execution_count": 4,
   "id": "834cb56f-0138-4ccc-a1d1-4f13606bc7c7",
   "metadata": {},
   "outputs": [
    {
     "name": "stdout",
     "output_type": "stream",
     "text": [
      "максимальным_количеством_комментариев: 1 (5 комментариев)\n"
     ]
    }
   ],
   "source": [
    "import requests\n",
    "\n",
    "def получить_посты(url_api=\"https://jsonplaceholder.typicode.com/posts\"):\n",
    "    try:\n",
    "        ответ = requests.get(url_api)\n",
    "        ответ.raise_for_status()\n",
    "        return ответ.json()\n",
    "    except requests.exceptions.RequestException as e:\n",
    "        print(f\"Ошибка постов: {e}\")\n",
    "        return []\n",
    "\n",
    "def получить_комментарии(url_api=\"https://jsonplaceholder.typicode.com/comments\"):\n",
    "    try:\n",
    "        ответ = requests.get(url_api)\n",
    "        ответ.raise_for_status()\n",
    "        return ответ.json()\n",
    "    except requests.exceptions.RequestException as e:\n",
    "        print(f\"Ошибка комментариев: {e}\")\n",
    "        return []\n",
    "\n",
    "def найти_пост_с_максимальным_количеством_комментариев(посты, комментарии):\n",
    "    количество_комментариев = {}\n",
    "    for пост in посты:\n",
    "        id_поста = пост['id']\n",
    "        количество_комментариев[id_поста] = 0\n",
    "\n",
    "    for комментарий in комментарии:\n",
    "        id_поста = комментарий['postId']\n",
    "        if id_поста in количество_комментариев:\n",
    "            количество_комментариев[id_поста] += 1\n",
    "\n",
    "    максимальное_количество = 0\n",
    "    пост_с_максимальным_количеством = None\n",
    "    for id_поста, количество in количество_комментариев.items():\n",
    "        if количество > максимальное_количество:\n",
    "            максимальное_количество = количество\n",
    "            пост_с_максимальным_количеством = id_поста\n",
    "\n",
    "    return пост_с_максимальным_количеством, максимальное_количество\n",
    "\n",
    "\n",
    "if __name__ == \"__main__\":\n",
    "    посты = получить_посты()\n",
    "    комментарии = получить_комментарии()\n",
    "\n",
    "    if посты and комментарии:\n",
    "        id_поста, количество_комментариев = найти_пост_с_максимальным_количеством_комментариев(посты, комментарии)\n",
    "        print(f\"максимальным_количеством_комментариев: {id_поста} ({количество_комментариев} комментариев)\")\n",
    "    else:\n",
    "        print(\"Не удалось получить данные.\")"
   ]
  },
  {
   "cell_type": "code",
   "execution_count": null,
   "id": "63824064-9a05-4b59-acde-08bf007661f8",
   "metadata": {},
   "outputs": [],
   "source": []
  }
 ],
 "metadata": {
  "kernelspec": {
   "display_name": "Python 3 (ipykernel)",
   "language": "python",
   "name": "python3"
  },
  "language_info": {
   "codemirror_mode": {
    "name": "ipython",
    "version": 3
   },
   "file_extension": ".py",
   "mimetype": "text/x-python",
   "name": "python",
   "nbconvert_exporter": "python",
   "pygments_lexer": "ipython3",
   "version": "3.12.6"
  }
 },
 "nbformat": 4,
 "nbformat_minor": 5
}
