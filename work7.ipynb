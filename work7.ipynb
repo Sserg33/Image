{
 "cells": [
  {
   "cell_type": "code",
   "execution_count": 17,
   "id": "35e37ef5-ba6a-4f27-9a5e-a4ad2fb20110",
   "metadata": {},
   "outputs": [
    {
     "name": "stdout",
     "output_type": "stream",
     "text": [
      "Сумма: 15\n",
      "Произведение: 120\n",
      "Среднее арифметическое: 3.0\n"
     ]
    }
   ],
   "source": [
    "def calculate_stats(numbers):\n",
    "\n",
    "  total_sum = sum(numbers)\n",
    "\n",
    "  total_product = 1\n",
    "  for number in numbers:\n",
    "    total_product *= number\n",
    "  average = total_sum / len(numbers)\n",
    "\n",
    "  return total_sum, total_product, average\n",
    "\n",
    "# Пример \n",
    "numbers = [1, 2, 3, 4, 5]\n",
    "sum, product, average = calculate_stats(numbers)\n",
    "\n",
    "print(f\"Сумма: {sum}\")\n",
    "print(f\"Произведение: {product}\")\n",
    "print(f\"Среднее арифметическое: {average}\")"
   ]
  },
  {
   "cell_type": "code",
   "execution_count": null,
   "id": "18734006-5e94-4371-87e4-7fdc0ba11275",
   "metadata": {},
   "outputs": [],
   "source": []
  }
 ],
 "metadata": {
  "kernelspec": {
   "display_name": "Python 3 (ipykernel)",
   "language": "python",
   "name": "python3"
  },
  "language_info": {
   "codemirror_mode": {
    "name": "ipython",
    "version": 3
   },
   "file_extension": ".py",
   "mimetype": "text/x-python",
   "name": "python",
   "nbconvert_exporter": "python",
   "pygments_lexer": "ipython3",
   "version": "3.12.4"
  }
 },
 "nbformat": 4,
 "nbformat_minor": 5
}
